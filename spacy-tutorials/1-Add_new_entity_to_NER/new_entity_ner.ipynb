{
 "cells": [
  {
   "cell_type": "markdown",
   "id": "eb5deb4f",
   "metadata": {},
   "source": [
    "Hello world!\n",
    "\n",
    "In today's tutorial, we are going to add a new entity to spaCy’s default NER (i.e., named entity recognition). We will explore why looking for specific strings is not a way to go and how to handle false positives and false negatives when doing NER with a custom-added entity. I’ll show you an example in Jupyter Notebook.\n",
    "\n",
    "Let’s start. For the NER, we will use spaCy and its pretrained model, more precisely the large one. So, make sure you install these two."
   ]
  },
  {
   "cell_type": "code",
   "execution_count": null,
   "id": "7d48ddc2-7dfa-4e7f-b437-041c1f146ec5",
   "metadata": {},
   "outputs": [],
   "source": [
    "!python -m spacy download en_core_web_lg"
   ]
  },
  {
   "cell_type": "code",
   "execution_count": 14,
   "id": "9656d92c-5938-470d-85ec-e40aaa4da3a1",
   "metadata": {},
   "outputs": [],
   "source": [
    "import spacy\n",
    "\n",
    "# Load the spaCy pre-trained model\n",
    "nlp = spacy.load(\"en_core_web_lg\")"
   ]
  },
  {
   "cell_type": "markdown",
   "id": "8f21f0d4",
   "metadata": {},
   "source": [
    "We will do NER on a `sample.txt` file. It’s located in the same directory as this Jupyter Notebook file. In the text file, there’s just a bunch of articles. The file itself is quite extensive. For the beginning, let’s try to read this file and print the first five articles to make sure we are able to read the file."
   ]
  },
  {
   "cell_type": "code",
   "execution_count": 16,
   "id": "3b2f14a3-b40c-4123-9c48-b2f2bf631b76",
   "metadata": {},
   "outputs": [
    {
     "name": "stdout",
     "output_type": "stream",
     "text": [
      "Article 1:\n",
      "@fansoniclove Gold the Tenrec\n",
      "\n",
      "-----\n",
      "\n",
      "Article 2:\n",
      "Tokyo-bound Sampson sets Aust rifle record. Shooter Dane Sampson has struck career-best form as he builds towards a third Olympics, setting a national record while winning the 50m rifle event at the South Australia championships. Sampson registered a score of 462 points to claim gold in the three positions event. The performance bettered Sampson's own national record of 460.7 points, which he achieved at last month's Wingfield grand prix. The score was also notably higher than what Italy's Niccolo Campriani (458.8) and Poland's Tomasz Bartnik (460.4) produced to win gold at the 2016 Olympics and 2018 world championships respectively. \"It's good to be shooting PBs at this stage. It was a world-class finals score,\" Sampson said, having previously competed at the 2012 and 2016 Olympics. \"You are unlikely to lose many competitions with that score. \"I definitely feel that I am getting better and better and I am tracking well for Tokyo.\" Sampson and other members of Australia's shooting team for the 2021 Olympics are set to come together for a pre-Games camp on July 4-19. The camp is intended to mimic the biosecurity bubble and strict protocols that await in Tokyo.\n",
      "\n",
      "-----\n",
      "\n",
      "Article 3:\n",
      "Originally posted by cordingup ↑ I see very interesting says the drill hole 33 now at 688 m so thats 88 m past the planned depth should mean they are still in mineralisation? Also i see in the tenements list those other permits around the MCB area they are still pursuing under appeal i guess the appeal is regards large sections of those falling into a National Park ??? One of those tenements from my reckoning hosts a copper gold resource another has a copper prospect. Expand That does sound promising. Gap up on open\n",
      "\n",
      "-----\n",
      "\n",
      "Article 4:\n",
      "\"US 500 Futures Discussions. Hey guys what is gold's history in May?  \n",
      "\n",
      "-----\n",
      "\n",
      "Article 5:\n",
      "Good time to invest in gold?\"\n",
      "\n",
      "-----\n",
      "\n"
     ]
    }
   ],
   "source": [
    "# Open the file named \"sample.txt\" in read mode with UTF-8 encoding\n",
    "with open(\"sample.txt\", \"r\", encoding=\"utf-8\") as file:\n",
    "    # Read all lines from the file and store them in the 'articles' list\n",
    "    articles = file.readlines()\n",
    "\n",
    "# Print the first 5 articles or all articles if there are fewer than 5\n",
    "for i in range(min(5, len(articles))):\n",
    "    # Print the article number and the content of the article\n",
    "    print(f\"Article {i + 1}:\\n{articles[i]}\")\n",
    "\n",
    "    # Print a separator line between articles for better readability\n",
    "    print(\"-----\\n\")\n"
   ]
  },
  {
   "cell_type": "markdown",
   "id": "b72fe291",
   "metadata": {},
   "source": [
    "If you run this block of code, you should get the following output, meaning that the file reading was successful. Note that we saved articles in the variable `articles`, which we will use several times later.\n",
    "\n",
    "Now we come to the interesting part. We will do NER on the words gold and silver. **The goal is to find all articles mentioning gold or silver in a financial context. This is very important! Only in a financial context!**\n",
    "\n",
    "### Attempt #1: Looking for strings *gold* and *silver*\n",
    "\n",
    "Our first attempt will be simply looking for the strings *gold* and *silver*. The loop in the code block below is the main thing here. We loop article by article using the variable `articles` and look for the strings *gold* and *silver*."
   ]
  },
  {
   "cell_type": "code",
   "execution_count": 34,
   "id": "56aac985-40d2-4f06-98b6-3351e3a2c9ef",
   "metadata": {},
   "outputs": [
    {
     "name": "stdout",
     "output_type": "stream",
     "text": [
      "Number of articles containing the string 'gold': 602\n",
      "Number of articles containing the string 'silver': 99\n",
      "\n",
      "First 4 articles containing the string 'gold':\n",
      "1. @fansoniclove Gold the Tenrec\n",
      "\n",
      "2. Tokyo-bound Sampson sets Aust rifle record. Shooter Dane Sampson has struck career-best form as he builds towards a third Olympics, setting a national record while winning the 50m rifle event at the South Australia championships. Sampson registered a score of 462 points to claim gold in the three positions event. The performance bettered Sampson's own national record of 460.7 points, which he achieved at last month's Wingfield grand prix. The score was also notably higher than what Italy's Niccolo Campriani (458.8) and Poland's Tomasz Bartnik (460.4) produced to win gold at the 2016 Olympics and 2018 world championships respectively. \"It's good to be shooting PBs at this stage. It was a world-class finals score,\" Sampson said, having previously competed at the 2012 and 2016 Olympics. \"You are unlikely to lose many competitions with that score. \"I definitely feel that I am getting better and better and I am tracking well for Tokyo.\" Sampson and other members of Australia's shooting team for the 2021 Olympics are set to come together for a pre-Games camp on July 4-19. The camp is intended to mimic the biosecurity bubble and strict protocols that await in Tokyo.\n",
      "\n",
      "3. Originally posted by cordingup ↑ I see very interesting says the drill hole 33 now at 688 m so thats 88 m past the planned depth should mean they are still in mineralisation? Also i see in the tenements list those other permits around the MCB area they are still pursuing under appeal i guess the appeal is regards large sections of those falling into a National Park ??? One of those tenements from my reckoning hosts a copper gold resource another has a copper prospect. Expand That does sound promising. Gap up on open\n",
      "\n",
      "4. \"US 500 Futures Discussions. Hey guys what is gold's history in May?  \n",
      "\n",
      "\n",
      "First 4 articles containing the string 'silver':\n",
      "1. Every post and comment you have ever made was related to persuading people to buy silver.\n",
      "\n",
      "2. Originally posted by kervio: ↑ I think the update said median age of the first set of patients was around mid 50s and median age of the later set of patients was around 69, so they would have only had to have put the inclusion criteria in half way through the trial when the evidence was emerging that age was a huge factor in deaths in order to have a successful trial. This is the big \"what if\" that might have sent the SP to $10, FDA approval, lives saved etc.We can give them a pass on not knowing that up front for sure because of the speed in which the trial moved forwards on, but I think some reactivity would have saved the day here once more was known about covid (in the same way that we found out about comorbidities leading to higher rates of death).I disagree with this: \"This disease has been totally wacky in respect of different age cohorts, and no one has or has had any idea what is going to happen to any given age group once confronted with the disease or results/impact. COVID has everyone flummoxed.\" until the Brazil variant turned everything on its head (which happened after the trial) there was lots of clear evidence in white papers about the effect of age on covid mortality. The inclusion criteria is there to stop random chance from derailing your study, so if they had say 10 or so 80yo patients that were enrolled and bound to die no matter what it lessons the effect of your treatment on a saveable demographic within your cohort. I agree with your excitement on what the results though, and I think this therapy has some big potential to show effect and get approval in a confirmatory trial with appropriate design. It's better than I expected the results to be. Expand Hey,@kervio. Good points on age effect. I guess I was thinking more broadly, say in respect of MIS-C in kids, under-50s getting blood clots with the Astra Zeneca and J&J vaccines, etc. A lot about COVID has been very unpredictable.As well, we don't know what conversations, if any, were had between MSB, NIH, the FDA and the DSMB. Clearly, someone made the decision not to modify the inclusion criteria and continue the trial, opting to halt it, instead. Most likely NOT MSB's choice, and I doubt they would have been given enough information by the DSMB to allow them to make this call on their own. I am clearly not qualified to speak on the issue, of course!LeftYahoo had a good point about the silver lining here, though - we get the full trial results that much earlier, with it having been halted. Fingers crossed the NIH, the FDA and Novartis are as excited about these amazing results as we are!\n",
      "\n",
      "3. 14 Homegrown labels that are donating their profits to Covid-19 relief. In times of turmoil, fashion can seem frivolous. But on closer introspection there is a whole ecosystem that survives and thrives on it. If shopping is your therapy or you are simply filling a requirement, we jot down a few do-good homegrown brands that are donating their profits to Covid-19 relief. The second wave of Covid-19 in India is filled with the feeling of gloom and doom. The only speck of positivity in this space is power of the people. Whether it’s the frontline workers, the caregivers or the social media influencers collecting resources – there has been a mass movement of people stepping up to help those in need. In times of need, homegrown brands are reaching out to do their bit and help the cause. With brands dedicating their profits to organisations that are providing relief to those affected by the Covid-19 crisis , it’s not simply a necklace, a dress or a face mask you’re purchasing.  Juicy Chemistry      The ECOCERT certified organic beauty label is contributing all the proceeds from their Mother’s Day sale to support the relief efforts. Shop here to do your part.   Olio      A special shout out to this homegrown jewellery label run by two women entrepreneurs, Aashna Singh and Sneha Saksena who decided to donate 100% proceeds from their sales to organisations that are helping fight Covid-19 on the ground. While the brand had planned to host a 3 day sale, with a target of raising two lakh rupees, they superseded this mark by raising Rs 12,40,974 in a single day making them end the donation drive due to shortage of staff and being a small business.   Studio Metallurgy       If you’re looking for statement jewellery, then Studio Metallurgy gold-plated pieces are a worthy investment and contribution. The brand is  donating 100% of the sale proceeds of their curated top 10 bestsellers for Covid-19 relief.    AA Living      Feel free to use the evil eye collection from AA Living as a talisman to ward off the problems troubling the country. If you do, 100% of the proceeds will get donated to Covid-19 relief charities in India,  through the entire month of May.   YAM      This homegrown label is running a sample sale on their Instagram page filled with beautifully crafted dresses, shirts and so on. With a total of 10 garments being put up daily, the brand is using the proceeds to support Hemkunt Organisation in Gurgaon that is providing oxygen cylinders to Covid-19 patients.    Rattle & Co.      Clothing for young ones almost comes under an essential buy, and that’s why we are leaning towards the beautiful pieces at Rattle & Co. Their bestsellers are on discount and 50% proceeds are going for a noble cause.  Itraake      If you’re looking for comfortable and sustainable handloom items for summer then head to Itraake. The brand is donating all sale proceeds to Hemkunt Foundation till May 2, 2020.    Love Letter      Gold vermeil, sterling silver and recycled plastic – the jewellery at Love Letter is unique in all its form and can serve as a good reminder of happier days ahead. They are also donating all sale proceeds from April 20 to May 20, 2020 to Hemkunt Foundation.   JODI      The homegrown brand known for its beautiful dresses wants to amplify and offer help to those in need all over the country. They are offering a 20% discount on all orders with the code JODICARES plus all proceeds going to Hemkunt Foundation for the next three days.     Megha Bansal      Showing gratitude for the invisible warriors who are helping us battle the pandemic, Megha Bansal label is donating 100% of the proceeds to Hemkunt Foundation, Mission Oxygen, Khaana Chahiye and Make Luv Not Scars. Pick from the Covid-19 relief section on our website, also they promise to share all the necessary information regarding the transfer of your funds.  Sher Bache      From a kids brand to creating beautifully made clothes for adults too, Sher Bache has come a long way. The brand iis sending 100% proceeds from each order to Feeding From Afar, whereby each order keeps a family of 5 fed for a week)    Radhika Agarwal Jewels       Impressed with the work done by Hemkunt Foundation in providing oxygen cylinders to Covid-19 patients, Radhika Agarwal jewels is donating 100% of their profits to the organisation.    Aroop      Sustainable clothing label Aroop is donating 100% proceeds to Hemkunt Foundation till May 5, 2021. Purchase with a purpose one of their beautifully crafted dresses.    Eterno      Anushree Bora’s handmade jewellery label, Eterno is donating 100% profits to organisations like Feeding From Afar, Mazdoor Kitchen, Help Now 24×7, Khalsa Aid India, Khaana Chahiye as well as local social workers. Aiming to raise 1 lakh rupees, pick from this brand as a reminder to give back to the country.    The post appeared first on Lifestyle Asia India .\n",
      "\n",
      "4. $CLSH CLS Holdings USA, Inc. Welcomes New Board Member, Mr. Ross Silver https://t.co/lKEKbX9P5T  #LasVagas… https://t.co/0HZQNRobEo\n",
      "\n"
     ]
    }
   ],
   "source": [
    "def entity_matcher(article):\n",
    "    # Process the article using spaCy\n",
    "    doc = nlp(article)\n",
    "\n",
    "    # Check if \"gold\" or \"silver\" is present in the article\n",
    "    gold_present = any(token.text.lower() == \"gold\" for token in doc)\n",
    "    silver_present = any(token.text.lower() == \"silver\" for token in doc)\n",
    "\n",
    "    return gold_present, silver_present\n",
    "\n",
    "gold_count = 0\n",
    "silver_count = 0\n",
    "\n",
    "# Lists to store articles containing \"gold\" and \"silver\"\n",
    "gold_articles = []\n",
    "silver_articles = []\n",
    "\n",
    "# Iterate through each article in the 'articles' list\n",
    "for article in articles:\n",
    "    gold_present, silver_present = entity_matcher(article)\n",
    "\n",
    "    # Check if \"gold\" is present in the article\n",
    "    if gold_present:\n",
    "        gold_count += 1\n",
    "        gold_articles.append(article)\n",
    "\n",
    "    # Check if \"silver\" is present in the article\n",
    "    if silver_present:\n",
    "        silver_count += 1\n",
    "        silver_articles.append(article)\n",
    "\n",
    "# Print the number of articles containing strings 'gold' and 'silver'\n",
    "print(\"Number of articles containing the string 'gold':\", gold_count)\n",
    "print(\"Number of articles containing the string 'silver':\", silver_count)\n",
    "\n",
    "# Print the first 4 articles containing the string \"gold\"\n",
    "print(\"\\nFirst 4 articles containing the string 'gold':\")\n",
    "for i, article in enumerate(gold_articles[:4], start=1):\n",
    "    print(f\"{i}. {article}\")\n",
    "\n",
    "# Print the first 4 articles containing the string \"silver\"\n",
    "print(\"\\nFirst 4 articles containing the string 'silver':\")\n",
    "for i, article in enumerate(silver_articles[:4], start=1):\n",
    "    print(f\"{i}. {article}\")"
   ]
  },
  {
   "cell_type": "markdown",
   "id": "a32757aa",
   "metadata": {},
   "source": [
    "If you run the code block above, you should get the output as seen above. As you can see, there were `602` articles mentioning gold and `99` articles mentioning silver. We only printed the first 5 articles, but there are a lot of them. If we printed all of them, we would just get a bunch of output, but the first 5 articles are enough to show you the point.\n",
    "\n",
    "Remember what we said our goal was? To find all articles mentioning gold and silver in a financial context. Look at the second article containing the string *gold* above (i.e., `Tokyo-bound Sampson sets Aust rifle record. Shooter Dane...`). It’s mentioning gold in a sports context. This article is talking about gold medals. Is this in a financial context? No.\n",
    "\n",
    "As we can see, looking for strings is not the way to go.\n",
    "\n",
    "### Attempt #2: NER\n",
    "\n",
    "Our second attempt will be doing NER using spaCy. Let's try to look for *COMMODITY* entities."
   ]
  },
  {
   "cell_type": "code",
   "execution_count": 18,
   "id": "219d7293-ad04-4427-bd62-1b5e8c99e7c5",
   "metadata": {},
   "outputs": [
    {
     "name": "stdout",
     "output_type": "stream",
     "text": [
      "Number of articles containing 'gold' as a commodity: 0\n",
      "Number of articles containing 'silver' as a commodity: 0\n"
     ]
    }
   ],
   "source": [
    "# Define a function for matching entities in an article\n",
    "def entity_matcher(article):\n",
    "    # Process the article using spaCy\n",
    "    doc = nlp(article)\n",
    "\n",
    "    # Check if \"gold\" or \"silver\" is present as a recognized entity with the label \"COMMODITY\"\n",
    "    gold_present = any(token.ent_type_ == \"COMMODITY\" and token.text.lower() == \"gold\" for token in doc)\n",
    "    silver_present = any(token.ent_type_ == \"COMMODITY\" and token.text.lower() == \"silver\" for token in doc)\n",
    "\n",
    "    return gold_present, silver_present\n",
    "\n",
    "# Initialize counters for the number of articles containing 'gold' and 'silver' as commodities\n",
    "gold_count = 0\n",
    "silver_count = 0\n",
    "\n",
    "# Loop through each article in the list of articles\n",
    "for article in articles:\n",
    "    # Call the entity_matcher function to check for 'gold' and 'silver' in the current article\n",
    "    gold_present, silver_present = entity_matcher(article)\n",
    "\n",
    "    # Increment the counters if 'gold' or 'silver' is present in the current article\n",
    "    if gold_present:\n",
    "        gold_count += 1\n",
    "    if silver_present:\n",
    "        silver_count += 1\n",
    "\n",
    "# Display the results\n",
    "print(\"Number of articles containing 'gold' as a commodity:\", gold_count)\n",
    "print(\"Number of articles containing 'silver' as a commodity:\", silver_count)"
   ]
  },
  {
   "cell_type": "markdown",
   "id": "936a87b9",
   "metadata": {},
   "source": [
    "If you run the code block above, you should get the output as seen above. What a disappointment! spaCy has found no such articles.\n",
    "\n",
    "Okay, let’s take a step back and print all the entities that spaCy finds in articles. Again, we only printed the first three articles to avoid having too much text. It’s enough to get the point."
   ]
  },
  {
   "cell_type": "code",
   "execution_count": 20,
   "id": "b7b8c75d-8ac4-4407-9157-7f4acfc3e989",
   "metadata": {},
   "outputs": [
    {
     "name": "stdout",
     "output_type": "stream",
     "text": [
      "\n",
      "Entities in Article 1:\n",
      "\n",
      "Entities in the article: Tenrec (GPE)\n",
      "-----\n",
      "\n",
      "\n",
      "Entities in Article 2:\n",
      "\n",
      "Entities in the article: Tokyo (GPE), Sampson (PERSON), Aust (GPE), Shooter Dane Sampson (ORG), third (ORDINAL), Olympics (EVENT), 50m (QUANTITY), South Australia (GPE), Sampson (PERSON), 462 (CARDINAL), three (CARDINAL), Sampson (ORG), 460.7 (CARDINAL), last month's (DATE), Wingfield (PERSON), Italy (GPE), Niccolo Campriani (PERSON), 458.8 (CARDINAL), Poland (GPE), Tomasz Bartnik (PERSON), 460.4 (CARDINAL), 2016 (DATE), Olympics (EVENT), 2018 (DATE), Sampson (PERSON), 2012 (DATE), 2016 (DATE), Olympics (EVENT), Tokyo (GPE), Sampson (PERSON), Australia (GPE), 2021 (DATE), Olympics (EVENT), pre-Games (EVENT), July 4-19 (DATE), Tokyo (GPE)\n",
      "-----\n",
      "\n",
      "\n",
      "Entities in Article 3:\n",
      "\n",
      "Entities in the article: 33 (CARDINAL), 688 (CARDINAL), MCB (ORG), a National Park (FAC), One (CARDINAL)\n",
      "-----\n",
      "\n"
     ]
    }
   ],
   "source": [
    "def print_entities(article):\n",
    "    # Process the article using spaCy\n",
    "    doc = nlp(article)\n",
    "\n",
    "    # Print all recognized entities\n",
    "    entities = [f\"{ent.text} ({ent.label_})\" for ent in doc.ents]\n",
    "    print(f\"Entities in the article: {', '.join(entities)}\")\n",
    "\n",
    "# Iterate through the first 3 articles and print entities\n",
    "for i, article in enumerate(articles[:3], start=1):\n",
    "    # Print header for each article\n",
    "    print(f\"\\nEntities in Article {i}:\\n\")\n",
    "    \n",
    "    # Call the function to print entities for the current article\n",
    "    print_entities(article)\n",
    "    \n",
    "    # Print separator between articles\n",
    "    print(\"-----\\n\")"
   ]
  },
  {
   "cell_type": "markdown",
   "id": "a2b17314",
   "metadata": {},
   "source": [
    "If you run the code block above, you should get the output as seen above. As you can see, spaCy found a lot of entities. People, locations, dates, quantities, events, etc. But there are no commodities. It looks like spacy doesn’t look for entities labeled by commodity or anything similar.\n",
    "\n",
    "Let's run the following line to get all the labels spaCy has defined by default."
   ]
  },
  {
   "cell_type": "code",
   "execution_count": 21,
   "id": "cf744928-3113-4f89-b410-d76ac989efdd",
   "metadata": {},
   "outputs": [
    {
     "data": {
      "text/plain": [
       "('CARDINAL',\n",
       " 'DATE',\n",
       " 'EVENT',\n",
       " 'FAC',\n",
       " 'GPE',\n",
       " 'LANGUAGE',\n",
       " 'LAW',\n",
       " 'LOC',\n",
       " 'MONEY',\n",
       " 'NORP',\n",
       " 'ORDINAL',\n",
       " 'ORG',\n",
       " 'PERCENT',\n",
       " 'PERSON',\n",
       " 'PRODUCT',\n",
       " 'QUANTITY',\n",
       " 'TIME',\n",
       " 'WORK_OF_ART')"
      ]
     },
     "execution_count": 21,
     "metadata": {},
     "output_type": "execute_result"
    }
   ],
   "source": [
    "# Retrieve the list of named entity labels used by the NER pipeline in the spaCy processing pipeline\n",
    "nlp.get_pipe('ner').labels"
   ]
  },
  {
   "cell_type": "markdown",
   "id": "ae0c4b20",
   "metadata": {},
   "source": [
    "Looking at the output above, we can confirm that spaCy doesn’t look for entities labeled by commodity or anything similar by default.\n",
    "\n",
    "Let’s add a *COMMODITY* label and two patterns, one for the gold and one for the silver. First, we will test a simple sentence `Good time to buy gold?` and see if spaCy now recognizes gold as an entity."
   ]
  },
  {
   "cell_type": "code",
   "execution_count": 23,
   "id": "72b66b60-8dfa-4af3-bbc5-6a6f39533a3b",
   "metadata": {},
   "outputs": [
    {
     "name": "stdout",
     "output_type": "stream",
     "text": [
      "gold COMMODITY\n"
     ]
    }
   ],
   "source": [
    "# Import spaCy and the EntityRuler class\n",
    "import spacy\n",
    "from spacy.pipeline import EntityRuler\n",
    "\n",
    "# Load spaCy model\n",
    "nlp = spacy.load(\"en_core_web_lg\")\n",
    "\n",
    "# Create an instance of the EntityRuler\n",
    "ruler = EntityRuler(nlp)\n",
    "\n",
    "# Define patterns for the EntityRuler\n",
    "patterns = [\n",
    "    {\"label\": \"COMMODITY\", \"pattern\": \"gold\"}\n",
    "]\n",
    "\n",
    "# Add the EntityRuler to the spaCy pipeline\n",
    "ruler = nlp.add_pipe(\"entity_ruler\")\n",
    "ruler.add_patterns(patterns)\n",
    "\n",
    "# Test the sentence\n",
    "text = \"Good time to buy gold?\"\n",
    "doc = nlp(text)\n",
    "\n",
    "# Print recognized entities\n",
    "for entity in doc.ents:\n",
    "    print(entity.text, entity.label_)"
   ]
  },
  {
   "cell_type": "code",
   "execution_count": null,
   "id": "86e16cc5-aeb1-40c5-9222-2e9baec5e006",
   "metadata": {},
   "outputs": [],
   "source": [
    "# Success! \"Gold\" was recognized as an entity under the label \"COMMODITY\" by spaCy. Now we want to extract full articles if, in any sentence inside the article, \"gold\" or \"silver\" are found as commodities."
   ]
  },
  {
   "cell_type": "code",
   "execution_count": 42,
   "id": "2dd585fa-d73c-4119-98a7-b77c31b27984",
   "metadata": {},
   "outputs": [
    {
     "name": "stdout",
     "output_type": "stream",
     "text": [
      "Number of articles containing 'COMMODITY' entities: 179\n",
      "\n",
      "First 4 articles containing 'COMMODITY' entities:\n",
      "1. Tokyo-bound Sampson sets Aust rifle record. Shooter Dane Sampson has struck career-best form as he builds towards a third Olympics, setting a national record while winning the 50m rifle event at the South Australia championships. Sampson registered a score of 462 points to claim gold in the three positions event. The performance bettered Sampson's own national record of 460.7 points, which he achieved at last month's Wingfield grand prix. The score was also notably higher than what Italy's Niccolo Campriani (458.8) and Poland's Tomasz Bartnik (460.4) produced to win gold at the 2016 Olympics and 2018 world championships respectively. \"It's good to be shooting PBs at this stage. It was a world-class finals score,\" Sampson said, having previously competed at the 2012 and 2016 Olympics. \"You are unlikely to lose many competitions with that score. \"I definitely feel that I am getting better and better and I am tracking well for Tokyo.\" Sampson and other members of Australia's shooting team for the 2021 Olympics are set to come together for a pre-Games camp on July 4-19. The camp is intended to mimic the biosecurity bubble and strict protocols that await in Tokyo.\n",
      "\n",
      "2. Originally posted by cordingup ↑ I see very interesting says the drill hole 33 now at 688 m so thats 88 m past the planned depth should mean they are still in mineralisation? Also i see in the tenements list those other permits around the MCB area they are still pursuing under appeal i guess the appeal is regards large sections of those falling into a National Park ??? One of those tenements from my reckoning hosts a copper gold resource another has a copper prospect. Expand That does sound promising. Gap up on open\n",
      "\n",
      "3. \"US 500 Futures Discussions. Hey guys what is gold's history in May?\n",
      "\n",
      "4. Good time to invest in gold?\"\n",
      "\n"
     ]
    }
   ],
   "source": [
    "import spacy\n",
    "from spacy.pipeline import EntityRuler\n",
    "\n",
    "# Load spaCy model\n",
    "nlp = spacy.load(\"en_core_web_lg\")\n",
    "\n",
    "# Create an instance of the EntityRuler\n",
    "ruler = EntityRuler(nlp)\n",
    "\n",
    "# Define patterns for the new entities\n",
    "patterns = [\n",
    "    {\"label\": \"COMMODITY\", \"pattern\": \"gold\"},\n",
    "    {\"label\": \"COMMODITY\", \"pattern\": \"silver\"}\n",
    "]\n",
    "\n",
    "# Add the EntityRuler to the spaCy pipeline\n",
    "ruler = nlp.add_pipe(\"entity_ruler\")\n",
    "ruler.add_patterns(patterns)\n",
    "\n",
    "# Read articles from file\n",
    "with open(\"sample.txt\", \"r\", encoding=\"utf-8\") as file:\n",
    "    articles = file.readlines()\n",
    "\n",
    "# Counter for the number of articles containing \"COMMODITY\"\n",
    "commodity_article_count = 0\n",
    "\n",
    "# List to store the content of articles containing \"COMMODITY\"\n",
    "commodity_articles = []\n",
    "\n",
    "# Count all articles containing \"COMMODITY\" entities\n",
    "for article in articles:\n",
    "    doc = nlp(article)\n",
    "    commodity_entities = [entity.text for entity in doc.ents if entity.label_ == \"COMMODITY\"]\n",
    "    \n",
    "    if commodity_entities:\n",
    "        commodity_article_count += 1\n",
    "        commodity_articles.append(article.strip())\n",
    "\n",
    "# Print the number of articles containing 'COMMODITY' entities\n",
    "print(f\"Number of articles containing 'COMMODITY' entities: {commodity_article_count}\\n\")\n",
    "\n",
    "# Print the first 4 articles containing the entity \"COMMODITY\"\n",
    "print(\"First 4 articles containing 'COMMODITY' entities:\")\n",
    "for i in range(min(4, len(commodity_articles))):\n",
    "    print(f\"{i+1}. {commodity_articles[i]}\\n\")"
   ]
  },
  {
   "cell_type": "code",
   "execution_count": null,
   "id": "b9b198ef-0370-4830-82d1-0a67eb2a408e",
   "metadata": {},
   "outputs": [],
   "source": [
    "# As we can see, there are a lot of false positives (e.g., \"Sampson registered a score of 462 points to claim gold in the three positions event.\"). This is a sentence where \"gold\" is not mentioned in a financial context, but spaCy treats this sentence as if it were."
   ]
  },
  {
   "cell_type": "code",
   "execution_count": null,
   "id": "14d3ad81-cbcd-46ab-9ab6-0cb9adea16f7",
   "metadata": {},
   "outputs": [],
   "source": [
    "# Let's try to change patterns for a new entity called \"COMMODITY\" in more detail. We will now use \"IN\". It stands for \"inclusion\". It is used as part of the pattern to specify that the token's lowercase text should be in a list of possible values. This pattern is looking for a lowercase token where the text is either \"price\", \"market\", or \"commodity\". It allows flexibility to match any of the specified words. The \"IN\" operator is used to define this set of possible values for the token."
   ]
  },
  {
   "cell_type": "code",
   "execution_count": 43,
   "id": "8c007b09-d1d8-434e-a492-f5924fa29319",
   "metadata": {},
   "outputs": [
    {
     "name": "stdout",
     "output_type": "stream",
     "text": [
      "Number of articles containing 'COMMODITY' entities: 15\n",
      "\n",
      "First 4 articles containing 'COMMODITY' entities:\n",
      "1. Gold price trading in neutral territory following rising inflation, U.S. personal income grows 21.1% in March… https://t.co/bvJEdowf6g\n",
      "\n",
      "2. Gold Price Today April 30: Gold Rate Continues To Fall, Check City-Wise Price List https://t.co/HGRF8zgSS9\n",
      "\n",
      "3. Advertorial (?) in the Australian from Anzac Day ..cheers https://www.theaustralian.com.au/business/dgo-gold-aiming-to-strike-a-balance-in-gold-exploration/news-story/231d9ce048bfd7d7f87545741008db15DGO Gold aiming to strike a balance in gold explorationDGO Gold is hoping it has created a strategic investment model that will reinvigorate gold exploration in Australia. Picture: BloombergDAMON KITNEYVICTORIAN BUSINESS EDITOR6:42PM APRIL 25, 2021Melbourne investment banker Bruce Parncutt calls his latest plaything a “gold discovery company”.Neither an explorer nor a miner, the ASX-listed DGO Gold — of which Mr Parncutt has been an executive director for the past year — is looking to carve out a unique niche in the Australian gold sector.Its game plan is to make strategic equity investments in West Australian brownfield gold discoveries, bankroll themwith additional capital and combine them with its own pursuit of largely-ignored exploration opportunities.Mr Parncutt said he hopes DGO has created a model that can reinvigorate gold exploration in Australia.“Gold is our fourth largest export so the industry is pretty important for the nation. We do the mining part well but I’m not so sure we do the exploration part well. Especially the brownfields guys who need to get their resource to some scale,” he said. “Most junior explorers find a piece of ground and they raise the capital and explore. We think we are adding intelligent value to that process.” DGO is also a unique human story, combining the skills of a career investment banker and former boss of McIntosh Securities in Mr Parncutt, with the exploration expertise of one of the resource sector’s most famed geologists, Ed Eshuys.As Joseph Gutnick’s exploration director in the late 1980s and early 1990s, Mr Eshuys led the teams that discovered the Plutonic, Bronzewing and Jundee gold deposits and the Cawse nickel deposit. Before those triumphs, Mr Eshuys also had involvement in the Maggie Hays and Mariners nickel discoveries in the 1970s.He is now DGO Gold’s executive chairman and is working closely with Mr Parncutt — who has been on the board since 2018 — and DGO’s management team to develop two sizeable WA gold resources and to explore for more.“We do bring together a unique set of skills. It is all very well to have the money but to apply that you need the technical skills” Mr Eshuys said.“Bruce and I do debate between ourselves our respective points of view and invariably come up with a consensus. That has led us to a disciplined approach to take DGO from where it was to where it is now.”DGO Gold directors Ed Eshuys and Bruce Parncutt.DGO Gold initially evaluated 100 gold explorers and their projects. Ten ASX juniors made the shortlist before DGO narrowed it down to two, taking strategic stakes in booming Pilbara gold explorer De Grey Mining and Leonora gold explorer NTM Gold.DGO has a string of major greenfield exploration projects of its own being drilled, including on prime South Australian ground owned by junior explorer Investigator Resources as the first stage to earning an 80 per cent stake in the latter’s Pernatty copper project. DGO also has a 40 per cent interest in Yilgarn Exploration Ventures, which is drilling in the Leonora district of Western Australia.“One of the critical things we found when we were talking to all the juniors was that they didn’t understand the need to have at least 3 million ounces to have something of meaningful scale,” Mr Eshuys said.“Part of our discussions with these companies was about raising sufficient funds to do the job properly. That is where De Grey came to the party. They did understand they needed to raise more money and they did that.”The strategy has seen DGO Gold shares soar from just 17c four years ago, and $1.70 last year when Mr Parncutt became an executive, to close on Friday at $3.63.They soared over $4 in September last year on the back of the coronavirus-fuelled surge in the gold price, which saw it spike to $US2056 per ounce last August.While gold prices have trended lower since the start of 2021 amid rising US Treasury yields and an increasingly positive outlook for the global economic recovery, the DGO share price has held up.DGO now owns 16 per cent of De Grey, which is drilling out a significant Pilbara gold discovery. It also has board representation and has supported De Grey’s capital raisings, including a $25m round last September.“De Grey is in a unique position in terms of its Pilbara land position. That is one of our key elements when we invest and explore,” Mr Eshuys said.Following the merger late last year of NTM Gold with Dacian Gold, DGO will now emerge with a 10 per cent stake in Dacian.Of the $25m raised last September, $8m was also pegged for greenfield exploration.The value of DGO’s stake in De Grey covers its $225m market capitalisation, meaning the market is currently attributing no value to DGO’s substantial exploration interests.DGO has attracted some big name investors, including stockbroking veteran Tom Klinger, one of Christopher Skase’s biggest backers through the 1980s and another former McIntosh managing director. Others are former stockbroking resources turned private equity fund adviser Peter Woodford, the rich-lister Costa family member Robert Costa and Regal Funds Management.\n",
      "\n",
      "4. Global gold demand, first quarter near low level for the first time in 13 years Investor sales. [London, 29th Reuters] --Global gold demand in the first quarter of this year has remained near its lowest level since 2008, according to a quarterly report released by the World Gold Council (WGC), an international gold research institute. It was. While Asian consumer buying has returned, investor sales have expanded in Europe and North America. Last year, as the spread of the new coronavirus hit the global economy, investors were increasingly buying gold as a safe haven. At the same time, lockdowns to curb the spread of infection have slowed sales of gold jewelery, gold nuggets and gold coins in China and India, which are normally the two biggest consumers. As the global economy recovers, this trend is now reversing, with investors shrinking their holdings and Asian consumer buying returning. According to the WGC, global gold demand from January to March this year was 815.7 tons, a slight increase from 813.7 tons in the previous quarter. However, it decreased by 23% year-on-year. Consumer demand in China was 286.4 tonnes, the highest level since the first quarter of 2017. On the other hand, exchange-traded fund (ETF) gold holdings fell by 177.9 tons, the largest decline since the fourth quarter of 2013. Due to the sale by ETF, the gold price fell from the record high of 1 ounce = $ 2072.50 in August last year to around $ 1,700 in March. According to the WGC, this helped boost demand for Asians. In April, ETF sales slowed sharply and gold prices picked up towards $ 1800. WGC analyst Christian Gopaul said consumers and investors&#39; demand for gold this year is likely to remain resilient, albeit below its recent peak. Gold purchased by the central bank in the first quarter was 95.5 tonnes, the highest level since the second quarter of last year. However, it was well below the typical level seen in 2018 and 2019. Reuters\n",
      "\n"
     ]
    }
   ],
   "source": [
    "import spacy\n",
    "from spacy.pipeline import EntityRuler\n",
    "\n",
    "# Load spaCy model\n",
    "nlp = spacy.load(\"en_core_web_lg\")\n",
    "\n",
    "# Create an instance of the EntityRuler\n",
    "ruler = EntityRuler(nlp)\n",
    "\n",
    "# Define patterns for the new entities\n",
    "patterns = [\n",
    "    {\"label\": \"COMMODITY\", \"pattern\": [{\"LOWER\": \"gold\"}, {\"LOWER\": {\"IN\": [\"price\", \"market\", \"commodity\"]}}]}, # Changed\n",
    "    {\"label\": \"COMMODITY\", \"pattern\": [{\"LOWER\": \"silver\"}, {\"LOWER\": {\"IN\": [\"price\", \"market\", \"commodity\"]}}]}, # Changed\n",
    "]\n",
    "\n",
    "# Add the EntityRuler to the spaCy pipeline\n",
    "ruler = nlp.add_pipe(\"entity_ruler\")\n",
    "ruler.add_patterns(patterns)\n",
    "\n",
    "# Read articles from file\n",
    "with open(\"sample.txt\", \"r\", encoding=\"utf-8\") as file:\n",
    "    articles = file.readlines()\n",
    "\n",
    "# Counter for the number of articles containing \"COMMODITY\"\n",
    "commodity_article_count = 0\n",
    "\n",
    "# List to store the content of articles containing \"COMMODITY\"\n",
    "commodity_articles = []\n",
    "\n",
    "# Count all articles containing \"COMMODITY\" entities\n",
    "for article in articles:\n",
    "    doc = nlp(article)\n",
    "    commodity_entities = [entity.text for entity in doc.ents if entity.label_ == \"COMMODITY\"]\n",
    "    \n",
    "    if commodity_entities:\n",
    "        commodity_article_count += 1\n",
    "        commodity_articles.append(article.strip())\n",
    "\n",
    "# Print the number of articles containing 'COMMODITY' entities\n",
    "print(f\"Number of articles containing 'COMMODITY' entities: {commodity_article_count}\\n\")\n",
    "\n",
    "# Print the first 4 articles containing the entity \"COMMODITY\"\n",
    "print(\"First 4 articles containing 'COMMODITY' entities:\")\n",
    "for i in range(min(4, len(commodity_articles))):\n",
    "    print(f\"{i+1}. {commodity_articles[i]}\\n\")"
   ]
  },
  {
   "cell_type": "code",
   "execution_count": 44,
   "id": "92965e03",
   "metadata": {},
   "outputs": [
    {
     "name": "stdout",
     "output_type": "stream",
     "text": [
      "Number of articles containing 'COMMODITY' entities: 43\n",
      "\n",
      "First 4 articles containing 'COMMODITY' entities:\n",
      "1. Gold price trading in neutral territory following rising inflation, U.S. personal income grows 21.1% in March… https://t.co/bvJEdowf6g\n",
      "\n",
      "2. Gold Price Today April 30: Gold Rate Continues To Fall, Check City-Wise Price List https://t.co/HGRF8zgSS9\n",
      "\n",
      "3. Gold futures eke out gain on volatile day, silver near Rs 67,550/kg: What analysts say - Domestic gold prices seesa… https://t.co/w6qkrpNcOA\n",
      "\n",
      "4. Silver Futures Discussions. why moment not saw from 26.000,any problem let me know anybody\n",
      "\n"
     ]
    }
   ],
   "source": [
    "import spacy\n",
    "from spacy.pipeline import EntityRuler\n",
    "\n",
    "# Load spaCy model\n",
    "nlp = spacy.load(\"en_core_web_lg\")\n",
    "\n",
    "# Create an instance of the EntityRuler\n",
    "ruler = EntityRuler(nlp)\n",
    "\n",
    "# Define patterns for the new entities\n",
    "patterns = [\n",
    "    {\"label\": \"COMMODITY\", \"pattern\": [{\"LOWER\": {\"IN\": [\"gold\"]}}, {\"LOWER\": {\"IN\": [\"price\", \"market\", \"commodity\", \"trading\", \"investment\", \"bullion\", \"precious metal\", \"futures\", \"yield\", \"contract\", \"reserve currencies\", \"modern monetary theory\"]}}]}, # Changed\n",
    "    {\"label\": \"COMMODITY\", \"pattern\": [{\"LOWER\": {\"IN\": [\"silver\"]}}, {\"LOWER\": {\"IN\": [\"price\", \"market\", \"commodity\", \"trading\", \"investment\", \"bullion\", \"precious metal\", \"futures\", \"yield\", \"contract\", \"reserve currencies\", \"modern monetary theory\"]}}]}, # Changed\n",
    "]\n",
    "\n",
    "# Add the EntityRuler to the spaCy pipeline\n",
    "ruler = nlp.add_pipe(\"entity_ruler\")\n",
    "ruler.add_patterns(patterns)\n",
    "\n",
    "# Read articles from file\n",
    "with open(\"sample.txt\", \"r\", encoding=\"utf-8\") as file:\n",
    "    articles = file.readlines()\n",
    "\n",
    "# Counter for the number of articles containing \"COMMODITY\"\n",
    "commodity_article_count = 0\n",
    "\n",
    "# List to store the content of articles containing \"COMMODITY\"\n",
    "commodity_articles = []\n",
    "\n",
    "# Count all articles containing \"COMMODITY\" entities\n",
    "for article in articles:\n",
    "    doc = nlp(article)\n",
    "    commodity_entities = [entity.text for entity in doc.ents if entity.label_ == \"COMMODITY\"]\n",
    "    \n",
    "    if commodity_entities:\n",
    "        commodity_article_count += 1\n",
    "        commodity_articles.append(article.strip())\n",
    "\n",
    "# Print the number of articles containing 'COMMODITY' entities\n",
    "print(f\"Number of articles containing 'COMMODITY' entities: {commodity_article_count}\\n\")\n",
    "\n",
    "# Print the first 4 articles containing the entity \"COMMODITY\"\n",
    "print(\"First 4 articles containing 'COMMODITY' entities:\")\n",
    "for i in range(min(4, len(commodity_articles))):\n",
    "    print(f\"{i+1}. {commodity_articles[i]}\\n\")"
   ]
  },
  {
   "cell_type": "code",
   "execution_count": null,
   "id": "8bd1b59e-dcc9-4987-9dd0-2de8708c5243",
   "metadata": {},
   "outputs": [],
   "source": [
    "# Until this point, we haven't handled false negatives. This happens when spaCy treats a sentence as if it's not finance-related, when in reality it is. In other words, there are several other aliases that can be used to refer to gold or silver. For example, the XAU/USD alias will almost certainly refer to the gold price per troy ounce in US dollars, and it is commonly used when talking about price events. So, let's add four more patterns to handle false negatives."
   ]
  },
  {
   "cell_type": "code",
   "execution_count": 45,
   "id": "63656382",
   "metadata": {},
   "outputs": [
    {
     "name": "stdout",
     "output_type": "stream",
     "text": [
      "Number of articles containing 'COMMODITY' entities: 47\n",
      "\n",
      "First 4 articles containing 'COMMODITY' entities:\n",
      "1. Gold Price News and Forecast: XAU/USD is trapped in daily support and resistance. Posted by: EUR Editor  in EUR  1 min ago  XAU/USD struggles below $1,800 amid risk-off mood. Gold steps back from intraday high while flashing $1,772 as a quote amid Friday’s Asian session. In doing … Read Full Story at source (may require registration)     Latest posts by EUR Editor ( see all )\n",
      "\n",
      "2. Gold price trading in neutral territory following rising inflation, U.S. personal income grows 21.1% in March… https://t.co/bvJEdowf6g\n",
      "\n",
      "3. Gold Price Today April 30: Gold Rate Continues To Fall, Check City-Wise Price List https://t.co/HGRF8zgSS9\n",
      "\n",
      "4. Gold futures eke out gain on volatile day, silver near Rs 67,550/kg: What analysts say - Domestic gold prices seesa… https://t.co/w6qkrpNcOA\n",
      "\n"
     ]
    }
   ],
   "source": [
    "import spacy\n",
    "from spacy.pipeline import EntityRuler\n",
    "\n",
    "# Load spaCy model\n",
    "nlp = spacy.load(\"en_core_web_lg\")\n",
    "\n",
    "# Create an instance of the EntityRuler\n",
    "ruler = EntityRuler(nlp)\n",
    "\n",
    "# Define patterns for the new entities\n",
    "patterns = [\n",
    "    {\"label\": \"COMMODITY\", \"pattern\": [{\"LOWER\": {\"IN\": [\"gold\"]}}, {\"LOWER\": {\"IN\": [\"price\", \"market\", \"commodity\", \"trading\", \"investment\", \"bullion\", \"precious metal\", \"futures\", \"yield\", \"contract\", \"reserve currencies\", \"modern monetary theory\"]}}]},\n",
    "    {\"label\": \"COMMODITY\", \"pattern\": [{\"LOWER\": {\"IN\": [\"silver\"]}}, {\"LOWER\": {\"IN\": [\"price\", \"market\", \"commodity\", \"trading\", \"investment\", \"bullion\", \"precious metal\", \"futures\", \"yield\", \"contract\", \"reserve currencies\", \"modern monetary theory\"]}}]},\n",
    "    {\"label\": \"COMMODITY\", \"pattern\": \"XAU/USD\"}, # Added\n",
    "    {\"label\": \"COMMODITY\", \"pattern\": \"XAUUSD\"}, # Added\n",
    "    {\"label\": \"COMMODITY\", \"pattern\": \"XAG/USD\"}, # Added\n",
    "    {\"label\": \"COMMODITY\", \"pattern\": \"XAGUSD\"}, # Added\n",
    "]\n",
    "\n",
    "# Add the EntityRuler to the spaCy pipeline\n",
    "ruler = nlp.add_pipe(\"entity_ruler\")\n",
    "ruler.add_patterns(patterns)\n",
    "\n",
    "# Read articles from file\n",
    "with open(\"sample.txt\", \"r\", encoding=\"utf-8\") as file:\n",
    "    articles = file.readlines()\n",
    "\n",
    "# Counter for the number of articles containing \"COMMODITY\"\n",
    "commodity_article_count = 0\n",
    "\n",
    "# List to store the content of articles containing \"COMMODITY\"\n",
    "commodity_articles = []\n",
    "\n",
    "# Count all articles containing \"COMMODITY\" entities\n",
    "for article in articles:\n",
    "    doc = nlp(article)\n",
    "    commodity_entities = [entity.text for entity in doc.ents if entity.label_ == \"COMMODITY\"]\n",
    "    \n",
    "    if commodity_entities:\n",
    "        commodity_article_count += 1\n",
    "        commodity_articles.append(article.strip())\n",
    "\n",
    "# Print the number of articles containing 'COMMODITY' entities\n",
    "print(f\"Number of articles containing 'COMMODITY' entities: {commodity_article_count}\\n\")\n",
    "\n",
    "# Print the first 4 articles containing the entity \"COMMODITY\"\n",
    "print(\"First 4 articles containing 'COMMODITY' entities:\")\n",
    "for i in range(min(4, len(commodity_articles))):\n",
    "    print(f\"{i+1}. {commodity_articles[i]}\\n\")"
   ]
  },
  {
   "cell_type": "code",
   "execution_count": null,
   "id": "d56f9a6d-85e9-4142-a491-09a222313235",
   "metadata": {},
   "outputs": [],
   "source": [
    "# Tweaking this approach further (i.e., adding more words to the patterns) would probably yield even better results, meaning even fewer false negatives ceteris paribus (i.e., for the same amount of false positives), but I decided to stop here."
   ]
  }
 ],
 "metadata": {
  "kernelspec": {
   "display_name": "Python 3 (ipykernel)",
   "language": "python",
   "name": "python3"
  },
  "language_info": {
   "codemirror_mode": {
    "name": "ipython",
    "version": 3
   },
   "file_extension": ".py",
   "mimetype": "text/x-python",
   "name": "python",
   "nbconvert_exporter": "python",
   "pygments_lexer": "ipython3",
   "version": "3.11.8"
  }
 },
 "nbformat": 4,
 "nbformat_minor": 5
}
